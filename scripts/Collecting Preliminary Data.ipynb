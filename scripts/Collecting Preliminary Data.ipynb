{
 "cells": [
  {
   "cell_type": "code",
   "execution_count": 1,
   "id": "46946bca",
   "metadata": {},
   "outputs": [],
   "source": [
    "import requests\n",
    "import json\n",
    "import urllib\n",
    "from collections import defaultdict\n",
    "from operator import itemgetter\n",
    "from haversine import Unit\n",
    "import haversine as hs\n",
    "import time"
   ]
  },
  {
   "cell_type": "code",
   "execution_count": 2,
   "id": "f050cc95",
   "metadata": {},
   "outputs": [
    {
     "data": {
      "text/plain": [
       "'/Users/adityachawla/skunkworks22/RightRoute'"
      ]
     },
     "execution_count": 2,
     "metadata": {},
     "output_type": "execute_result"
    }
   ],
   "source": [
    "import os\n",
    "\n",
    "home_relative_dir = '..'\n",
    "\n",
    "os.chdir(home_relative_dir)\n",
    "os.getcwd()"
   ]
  },
  {
   "cell_type": "code",
   "execution_count": 3,
   "id": "da9907e6",
   "metadata": {},
   "outputs": [],
   "source": [
    "with open('apikey.txt','r') as f:\n",
    "    api_key = f.read().strip()"
   ]
  },
  {
   "cell_type": "code",
   "execution_count": 4,
   "id": "e9307349",
   "metadata": {},
   "outputs": [],
   "source": [
    "# routes\n",
    "r = requests.get(f'http://bustime.mta.info/api/where/routes-for-agency/MTA%20NYCT.json',params=[('key',api_key)])\n",
    "all_routes = json.loads(r.content)"
   ]
  },
  {
   "cell_type": "code",
   "execution_count": 5,
   "id": "20b97836",
   "metadata": {},
   "outputs": [],
   "source": [
    "def get_vehicle_data(api_key):\n",
    "    r = requests.get('http://bustime.mta.info/api/siri/vehicle-monitoring.json',params=[('key',api_key),('version',2)])\n",
    "    if r.ok:\n",
    "        return json.loads(r.content)['Siri']['ServiceDelivery']['VehicleMonitoringDelivery'][0]['VehicleActivity']\n",
    "    print('Vehicle GET call failed')\n",
    "    return None\n",
    "\n",
    "def calculate_distance(loc1,loc2,unit = Unit.MILES):\n",
    "    return hs.haversine((loc1['Latitude'],loc1['Longitude']),(loc2['Latitude'],loc2['Longitude']),unit=unit)\n",
    "\n",
    "def extract_groups(vehicle_activities):\n",
    "    groups = defaultdict(lambda : defaultdict(list))\n",
    "    for vehicle_activity in vehicle_activities:\n",
    "        vehicle_activity = vehicle_activity['MonitoredVehicleJourney']\n",
    "        line_ref,direction_ref, location,v_id = itemgetter('LineRef', 'DirectionRef','VehicleLocation','VehicleRef')(vehicle_activity)\n",
    "        groups[line_ref][direction_ref].append({\n",
    "            'vehicle_id':v_id,\n",
    "            'location':location\n",
    "        })\n",
    "    return groups\n"
   ]
  },
  {
   "cell_type": "code",
   "execution_count": 6,
   "id": "177407a2",
   "metadata": {},
   "outputs": [],
   "source": [
    "vehicle_activities = get_vehicle_data(api_key)\n",
    "groups = extract_groups(vehicle_activities)"
   ]
  },
  {
   "cell_type": "code",
   "execution_count": 8,
   "id": "985cf5ef",
   "metadata": {},
   "outputs": [],
   "source": [
    "THRESH = 0.3\n",
    "latest_update = []\n",
    "for route,route_vehicles in groups.items():\n",
    "    for route_dir,dir_vehicles in route_vehicles.items():\n",
    "        l = len(dir_vehicles)\n",
    "        for i in range(l):\n",
    "            for j in range(i+1,l):\n",
    "                distance = calculate_distance(dir_vehicles[i]['location'],dir_vehicles[j]['location'])\n",
    "                if distance<THRESH:\n",
    "                    latest_update.append({\n",
    "                        'bus1':dir_vehicles[i]['vehicle_id'],\n",
    "                        'bus2':dir_vehicles[j]['vehicle_id'],\n",
    "                        'distance': round(distance,3)\n",
    "                    })"
   ]
  },
  {
   "cell_type": "code",
   "execution_count": 9,
   "id": "146ca4d4",
   "metadata": {},
   "outputs": [],
   "source": [
    "path_to_service_acc = '/Users/adityachawla/skunkworks22/RightRoute/firestore-access-key.json'\n",
    "import firebase_admin\n",
    "from firebase_admin import credentials\n",
    "from firebase_admin import firestore\n",
    "\n",
    "# Use the application default credentials\n",
    "cred = credentials.ApplicationDefault()\n",
    "project_id = 'aditya-gcp-342814'\n",
    "cred = credentials.Certificate(path_to_service_acc)\n",
    "firebase_admin.initialize_app(cred)\n",
    "\n",
    "db = firestore.client()"
   ]
  },
  {
   "cell_type": "code",
   "execution_count": 10,
   "id": "302fee3c",
   "metadata": {},
   "outputs": [],
   "source": [
    "doc_ref = db.collection(u'skunkworks_22').document(u'bus_tracking')"
   ]
  },
  {
   "cell_type": "code",
   "execution_count": 16,
   "id": "d63df304",
   "metadata": {},
   "outputs": [],
   "source": [
    "doc = doc_ref.get()"
   ]
  },
  {
   "cell_type": "code",
   "execution_count": 19,
   "id": "011ea674",
   "metadata": {},
   "outputs": [
    {
     "data": {
      "text/plain": [
       "True"
      ]
     },
     "execution_count": 19,
     "metadata": {},
     "output_type": "execute_result"
    }
   ],
   "source": [
    "doc.get('current')"
   ]
  },
  {
   "cell_type": "code",
   "execution_count": 11,
   "id": "0ab16db0",
   "metadata": {},
   "outputs": [],
   "source": [
    "old_data_ref = db.collection(u'skunkworks_22').document(u'old_bus_data')"
   ]
  },
  {
   "cell_type": "code",
   "execution_count": 13,
   "id": "47f63f13",
   "metadata": {},
   "outputs": [
    {
     "data": {
      "text/plain": [
       "update_time {\n",
       "  seconds: 1649952866\n",
       "  nanos: 589604000\n",
       "}"
      ]
     },
     "execution_count": 13,
     "metadata": {},
     "output_type": "execute_result"
    }
   ],
   "source": [
    "doc_ref.update({\n",
    "    'current':latest_update\n",
    "})"
   ]
  },
  {
   "cell_type": "code",
   "execution_count": 33,
   "id": "8c6234d9",
   "metadata": {},
   "outputs": [],
   "source": [
    "# old_doc_ref = doc_ref.collection('old')\n",
    "# old_doc_ref.set({\n",
    "#     'something1':latest_update\n",
    "# })"
   ]
  },
  {
   "cell_type": "code",
   "execution_count": null,
   "id": "7aeb2c65",
   "metadata": {},
   "outputs": [],
   "source": [
    "import os\n",
    "import requests\n",
    "import json\n",
    "import urllib\n",
    "from collections import defaultdict\n",
    "from operator import itemgetter\n",
    "from haversine import Unit\n",
    "import haversine as hs\n",
    "from google.cloud import firestore\n",
    "import time\n",
    "\n",
    "THRESH = 0.3\n",
    "with open('apikey.txt','r') as f:\n",
    "    api_key = f.read().strip()\n",
    "db = firestore.Client.from_service_account_json('firestore-access-key.json')\n",
    "doc_ref = db.collection(u'skunkworks_22').document(u'bus_tracking')\n",
    "\n",
    "def get_vehicle_data(api_key):\n",
    "    r = requests.get('http://bustime.mta.info/api/siri/vehicle-monitoring.json',params=[('key',api_key),('version',2)])\n",
    "    if r.ok:\n",
    "        return json.loads(r.content)['Siri']['ServiceDelivery']['VehicleMonitoringDelivery'][0]['VehicleActivity']\n",
    "    print('Vehicle GET call failed')\n",
    "    return None\n",
    "\n",
    "def calculate_distance(loc1,loc2,unit = Unit.MILES):\n",
    "    return hs.haversine((loc1['Latitude'],loc1['Longitude']),(loc2['Latitude'],loc2['Longitude']),unit=unit)\n",
    "\n",
    "def extract_groups(vehicle_activities):\n",
    "    groups = defaultdict(lambda : defaultdict(list))\n",
    "    for vehicle_activity in vehicle_activities:\n",
    "        vehicle_activity = vehicle_activity['MonitoredVehicleJourney']\n",
    "        line_ref,direction_ref, location,v_id = itemgetter('LineRef', 'DirectionRef','VehicleLocation','VehicleRef')(vehicle_activity)\n",
    "        groups[line_ref][direction_ref].append({\n",
    "            'vehicle_id':v_id,\n",
    "            'location':location\n",
    "        })\n",
    "    return groups\n",
    "\n",
    "def extract_latest_mta_update(groups):\n",
    "    latest_update = []\n",
    "    for route,route_vehicles in groups.items():\n",
    "        for route_dir,dir_vehicles in route_vehicles.items():\n",
    "            l = len(dir_vehicles)\n",
    "            for i in range(l):\n",
    "                for j in range(i+1,l):\n",
    "                    distance = calculate_distance(dir_vehicles[i]['location'],dir_vehicles[j]['location'])\n",
    "                    if distance<THRESH:\n",
    "                        latest_update.append({\n",
    "                            'bus1':dir_vehicles[i]['vehicle_id'],\n",
    "                            'bus2':dir_vehicles[j]['vehicle_id'],\n",
    "                            'distance': round(distance,3)\n",
    "                        })\n",
    "    return latest_update\n",
    "\n",
    "def run_mta_job(request):\n",
    "    \"\"\"Responds to any HTTP request.\n",
    "    Args:\n",
    "        request (flask.Request): HTTP request object.\n",
    "    Returns:\n",
    "        The response text or any set of values that can be turned into a\n",
    "        Response object using\n",
    "        `make_response <http://flask.pocoo.org/docs/1.0/api/#flask.Flask.make_response>`.\n",
    "    \"\"\"\n",
    "    \n",
    "    vehicle_activities = get_vehicle_data(api_key)\n",
    "    groups = extract_groups(vehicle_activities)\n",
    "    latest_update = extract_latest_mta_update(groups)\n",
    "    doc_ref.update({\n",
    "        'current':latest_update\n",
    "    })\n",
    "    \n",
    "    return 'DONE'\n",
    "    "
   ]
  },
  {
   "cell_type": "code",
   "execution_count": 20,
   "id": "ed50802b",
   "metadata": {},
   "outputs": [],
   "source": []
  }
 ],
 "metadata": {
  "kernelspec": {
   "display_name": "Python 3",
   "language": "python",
   "name": "python3"
  },
  "language_info": {
   "codemirror_mode": {
    "name": "ipython",
    "version": 3
   },
   "file_extension": ".py",
   "mimetype": "text/x-python",
   "name": "python",
   "nbconvert_exporter": "python",
   "pygments_lexer": "ipython3",
   "version": "3.8.8"
  }
 },
 "nbformat": 4,
 "nbformat_minor": 5
}
